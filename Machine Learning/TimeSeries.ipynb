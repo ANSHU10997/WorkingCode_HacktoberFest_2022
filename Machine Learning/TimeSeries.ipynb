{
  "nbformat": 4,
  "nbformat_minor": 0,
  "metadata": {
    "colab": {
      "name": "daily temp",
      "provenance": [],
      "collapsed_sections": []
    },
    "kernelspec": {
      "name": "python3",
      "display_name": "Python 3"
    },
    "accelerator": "GPU"
  },
  "cells": [
    {
      "cell_type": "code",
      "metadata": {
        "id": "7ijXwUR4mD_G"
      },
      "source": [
        "    import numpy as np\n",
        "    import pandas as pd\n",
        "    from keras.layers import Dense, LSTM\n",
        "    import matplotlib.pyplot as plt\n",
        "    import tensorflow as tf"
      ],
      "execution_count": null,
      "outputs": []
    },
    {
      "cell_type": "code",
      "metadata": {
        "id": "3X-UYO-AmgDc",
        "colab": {
          "base_uri": "https://localhost:8080/",
          "height": 206
        },
        "outputId": "a31a5a0f-a595-428f-eb99-2d93f3bc0b42"
      },
      "source": [
        "    data_train = pd.read_csv('DailyDelhiClimateTrain.csv')\n",
        "    data_train.head()"
      ],
      "execution_count": null,
      "outputs": [
        {
          "output_type": "execute_result",
          "data": {
            "text/html": [
              "<div>\n",
              "<style scoped>\n",
              "    .dataframe tbody tr th:only-of-type {\n",
              "        vertical-align: middle;\n",
              "    }\n",
              "\n",
              "    .dataframe tbody tr th {\n",
              "        vertical-align: top;\n",
              "    }\n",
              "\n",
              "    .dataframe thead th {\n",
              "        text-align: right;\n",
              "    }\n",
              "</style>\n",
              "<table border=\"1\" class=\"dataframe\">\n",
              "  <thead>\n",
              "    <tr style=\"text-align: right;\">\n",
              "      <th></th>\n",
              "      <th>date</th>\n",
              "      <th>meantemp</th>\n",
              "      <th>humidity</th>\n",
              "      <th>wind_speed</th>\n",
              "      <th>meanpressure</th>\n",
              "    </tr>\n",
              "  </thead>\n",
              "  <tbody>\n",
              "    <tr>\n",
              "      <th>0</th>\n",
              "      <td>2013-01-01</td>\n",
              "      <td>10.000000</td>\n",
              "      <td>84.500000</td>\n",
              "      <td>0.000000</td>\n",
              "      <td>1015.666667</td>\n",
              "    </tr>\n",
              "    <tr>\n",
              "      <th>1</th>\n",
              "      <td>2013-01-02</td>\n",
              "      <td>7.400000</td>\n",
              "      <td>92.000000</td>\n",
              "      <td>2.980000</td>\n",
              "      <td>1017.800000</td>\n",
              "    </tr>\n",
              "    <tr>\n",
              "      <th>2</th>\n",
              "      <td>2013-01-03</td>\n",
              "      <td>7.166667</td>\n",
              "      <td>87.000000</td>\n",
              "      <td>4.633333</td>\n",
              "      <td>1018.666667</td>\n",
              "    </tr>\n",
              "    <tr>\n",
              "      <th>3</th>\n",
              "      <td>2013-01-04</td>\n",
              "      <td>8.666667</td>\n",
              "      <td>71.333333</td>\n",
              "      <td>1.233333</td>\n",
              "      <td>1017.166667</td>\n",
              "    </tr>\n",
              "    <tr>\n",
              "      <th>4</th>\n",
              "      <td>2013-01-05</td>\n",
              "      <td>6.000000</td>\n",
              "      <td>86.833333</td>\n",
              "      <td>3.700000</td>\n",
              "      <td>1016.500000</td>\n",
              "    </tr>\n",
              "  </tbody>\n",
              "</table>\n",
              "</div>"
            ],
            "text/plain": [
              "         date   meantemp   humidity  wind_speed  meanpressure\n",
              "0  2013-01-01  10.000000  84.500000    0.000000   1015.666667\n",
              "1  2013-01-02   7.400000  92.000000    2.980000   1017.800000\n",
              "2  2013-01-03   7.166667  87.000000    4.633333   1018.666667\n",
              "3  2013-01-04   8.666667  71.333333    1.233333   1017.166667\n",
              "4  2013-01-05   6.000000  86.833333    3.700000   1016.500000"
            ]
          },
          "metadata": {
            "tags": []
          },
          "execution_count": 23
        }
      ]
    },
    {
      "cell_type": "code",
      "metadata": {
        "id": "WHX8Svu03j-B",
        "colab": {
          "base_uri": "https://localhost:8080/",
          "height": 235
        },
        "outputId": "7ea6f43f-fdc3-47df-e492-ea57f242c748"
      },
      "source": [
        "data_train.info()"
      ],
      "execution_count": null,
      "outputs": [
        {
          "output_type": "stream",
          "text": [
            "<class 'pandas.core.frame.DataFrame'>\n",
            "RangeIndex: 1462 entries, 0 to 1461\n",
            "Data columns (total 5 columns):\n",
            " #   Column        Non-Null Count  Dtype  \n",
            "---  ------        --------------  -----  \n",
            " 0   date          1462 non-null   object \n",
            " 1   meantemp      1462 non-null   float64\n",
            " 2   humidity      1462 non-null   float64\n",
            " 3   wind_speed    1462 non-null   float64\n",
            " 4   meanpressure  1462 non-null   float64\n",
            "dtypes: float64(4), object(1)\n",
            "memory usage: 57.2+ KB\n"
          ],
          "name": "stdout"
        }
      ]
    },
    {
      "cell_type": "code",
      "metadata": {
        "id": "mj8OYicHmj5A",
        "colab": {
          "base_uri": "https://localhost:8080/",
          "height": 126
        },
        "outputId": "37ab8221-f6a7-4cf6-ee65-63dd0ed3a51f"
      },
      "source": [
        "    data_train.isnull().sum()"
      ],
      "execution_count": null,
      "outputs": [
        {
          "output_type": "execute_result",
          "data": {
            "text/plain": [
              "date            0\n",
              "meantemp        0\n",
              "humidity        0\n",
              "wind_speed      0\n",
              "meanpressure    0\n",
              "dtype: int64"
            ]
          },
          "metadata": {
            "tags": []
          },
          "execution_count": 25
        }
      ]
    },
    {
      "cell_type": "code",
      "metadata": {
        "id": "uFZ9c_aBmlrB",
        "colab": {
          "base_uri": "https://localhost:8080/",
          "height": 341
        },
        "outputId": "bba78791-f4a2-4e1c-f841-2ad730e7db99"
      },
      "source": [
        "    dates = data_train['date'].values\n",
        "    temp  = data_train['meantemp'].values\n",
        "     \n",
        "     \n",
        "    plt.figure(figsize=(15,5))\n",
        "    plt.plot(dates, temp)\n",
        "    plt.title('Daily Minimum Temperature',\n",
        "              fontsize=20);"
      ],
      "execution_count": null,
      "outputs": [
        {
          "output_type": "display_data",
          "data": {
            "image/png": "[encoded data removed]",
            "text/plain": [
              "<Figure size 1080x360 with 1 Axes>"
            ]
          },
          "metadata": {
            "tags": [],
            "needs_background": "light"
          }
        }
      ]
    },
    {
      "cell_type": "code",
      "metadata": {
        "id": "B4Uk7Ji7mxbY"
      },
      "source": [
        "    def windowed_dataset(series, window_size, batch_size, shuffle_buffer):\n",
        "        series = tf.expand_dims(series, axis=-1)\n",
        "        ds = tf.data.Dataset.from_tensor_slices(series)\n",
        "        ds = ds.window(window_size + 1, shift=1, drop_remainder=True)\n",
        "        ds = ds.flat_map(lambda w: w.batch(window_size + 1))\n",
        "        ds = ds.shuffle(shuffle_buffer)\n",
        "        ds = ds.map(lambda w: (w[:-1], w[1:]))\n",
        "        return ds.batch(batch_size).prefetch(1)"
      ],
      "execution_count": null,
      "outputs": []
    },
    {
      "cell_type": "code",
      "metadata": {
        "id": "RTAfeF_tm9zg"
      },
      "source": [
        "    from tensorflow.keras import layers\n",
        "    train_set = windowed_dataset(temp, window_size=60, batch_size=100, shuffle_buffer=1000)\n",
        "    model = tf.keras.models.Sequential([\n",
        "      tf.keras.layers.Bidirectional(layers.LSTM(64, return_sequences=True)),\n",
        "      tf.keras.layers.Bidirectional(layers.LSTM(64)),\n",
        "      tf.keras.layers.Dense(64, activation=\"relu\"),\n",
        "      tf.keras.layers.Dense(32, activation=\"relu\"),\n",
        "      tf.keras.layers.Dense(1),\n",
        "    ])"
      ],
      "execution_count": null,
      "outputs": []
    },
    {
      "cell_type": "code",
      "metadata": {
        "id": "7F6yQdx79gSq"
      },
      "source": [
        "    class myCallback(tf.keras.callbacks.Callback):\n",
        "      def on_epoch_end(self, epoch, logs={}):\n",
        "        if(logs.get('mae')<2.2):\n",
        "          print(\"\\nMAE <2.2!\")\n",
        "          self.model.stop_training = True\n",
        "    callbacks = myCallback()"
      ],
      "execution_count": null,
      "outputs": []
    },
    {
      "cell_type": "code",
      "metadata": {
        "id": "jhryBQ89nIrf",
        "colab": {
          "base_uri": "https://localhost:8080/",
          "height": 1000
        },
        "outputId": "2446d4c5-d171-4299-f07c-b26926d8c2e4"
      },
      "source": [
        "    optimizer = tf.keras.optimizers.SGD(lr=1.0000e-04, momentum=0.9)\n",
        "    model.compile(loss=tf.keras.losses.Huber(),\n",
        "                  optimizer=optimizer,\n",
        "                  metrics=[\"mae\"])\n",
        "    history = model.fit(train_set,epochs=100, callbacks=[callbacks])"
      ],
      "execution_count": null,
      "outputs": [
        {
          "output_type": "stream",
          "text": [
            "Epoch 1/100\n",
            "WARNING:tensorflow:Layer bidirectional_4 is casting an input tensor from dtype float64 to the layer's dtype of float32, which is new behavior in TensorFlow 2.  The layer has dtype float32 because its dtype defaults to floatx.\n",
            "\n",
            "If you intended to run this layer in float32, you can safely ignore this warning. If in doubt, this warning is likely only an issue if you are porting a TensorFlow 1.X model to TensorFlow 2.\n",
            "\n",
            "To change all layers to have dtype float64 by default, call `tf.keras.backend.set_floatx('float64')`. To change just this layer, pass dtype='float64' to the layer constructor. If you are the author of this layer, you can disable autocasting by passing autocast=False to the base Layer constructor.\n",
            "\n",
            "15/15 [==============================] - 1s 55ms/step - loss: 25.2284 - mae: 25.7284\n",
            "Epoch 2/100\n",
            "15/15 [==============================] - 1s 53ms/step - loss: 24.8001 - mae: 25.3001\n",
            "Epoch 3/100\n",
            "15/15 [==============================] - 1s 55ms/step - loss: 24.4560 - mae: 24.9560\n",
            "Epoch 4/100\n",
            "15/15 [==============================] - 1s 53ms/step - loss: 24.1250 - mae: 24.6250\n",
            "Epoch 5/100\n",
            "15/15 [==============================] - 1s 53ms/step - loss: 23.7552 - mae: 24.2552\n",
            "Epoch 6/100\n",
            "15/15 [==============================] - 1s 54ms/step - loss: 23.3065 - mae: 23.8065\n",
            "Epoch 7/100\n",
            "15/15 [==============================] - 1s 54ms/step - loss: 22.7281 - mae: 23.2281\n",
            "Epoch 8/100\n",
            "15/15 [==============================] - 1s 54ms/step - loss: 21.9942 - mae: 22.4942\n",
            "Epoch 9/100\n",
            "15/15 [==============================] - 1s 54ms/step - loss: 21.0515 - mae: 21.5515\n",
            "Epoch 10/100\n",
            "15/15 [==============================] - 1s 54ms/step - loss: 19.7951 - mae: 20.2952\n",
            "Epoch 11/100\n",
            "15/15 [==============================] - 1s 54ms/step - loss: 18.0774 - mae: 18.5774\n",
            "Epoch 12/100\n",
            "15/15 [==============================] - 1s 52ms/step - loss: 15.6625 - mae: 16.1614\n",
            "Epoch 13/100\n",
            "15/15 [==============================] - 1s 54ms/step - loss: 12.3138 - mae: 12.8068\n",
            "Epoch 14/100\n",
            "15/15 [==============================] - 1s 53ms/step - loss: 8.5837 - mae: 9.0724\n",
            "Epoch 15/100\n",
            "15/15 [==============================] - 1s 54ms/step - loss: 5.9358 - mae: 6.4250\n",
            "Epoch 16/100\n",
            "15/15 [==============================] - 1s 54ms/step - loss: 5.0304 - mae: 5.5148\n",
            "Epoch 17/100\n",
            "15/15 [==============================] - 1s 54ms/step - loss: 4.9999 - mae: 5.4779\n",
            "Epoch 18/100\n",
            "15/15 [==============================] - 1s 54ms/step - loss: 4.9199 - mae: 5.3979\n",
            "Epoch 19/100\n",
            "15/15 [==============================] - 1s 54ms/step - loss: 4.8107 - mae: 5.2946\n",
            "Epoch 20/100\n",
            "15/15 [==============================] - 1s 53ms/step - loss: 4.6715 - mae: 5.1551\n",
            "Epoch 21/100\n",
            "15/15 [==============================] - 1s 52ms/step - loss: 4.4444 - mae: 4.9247\n",
            "Epoch 22/100\n",
            "15/15 [==============================] - 1s 54ms/step - loss: 4.1720 - mae: 4.6520\n",
            "Epoch 23/100\n",
            "15/15 [==============================] - 1s 53ms/step - loss: 3.8138 - mae: 4.2916\n",
            "Epoch 24/100\n",
            "15/15 [==============================] - 1s 54ms/step - loss: 3.2945 - mae: 3.7656\n",
            "Epoch 25/100\n",
            "15/15 [==============================] - 1s 55ms/step - loss: 2.6944 - mae: 3.1603\n",
            "Epoch 26/100\n",
            "15/15 [==============================] - 1s 53ms/step - loss: 2.3046 - mae: 2.7656\n",
            "Epoch 27/100\n",
            "15/15 [==============================] - 1s 54ms/step - loss: 2.1879 - mae: 2.6455\n",
            "Epoch 28/100\n",
            "15/15 [==============================] - 1s 53ms/step - loss: 2.5211 - mae: 2.9845\n",
            "Epoch 29/100\n",
            "15/15 [==============================] - 1s 53ms/step - loss: 2.4306 - mae: 2.8934\n",
            "Epoch 30/100\n",
            "15/15 [==============================] - 1s 53ms/step - loss: 2.1148 - mae: 2.5713\n",
            "Epoch 31/100\n",
            "15/15 [==============================] - 1s 53ms/step - loss: 2.0888 - mae: 2.5455\n",
            "Epoch 32/100\n",
            "15/15 [==============================] - 1s 53ms/step - loss: 2.0600 - mae: 2.5160\n",
            "Epoch 33/100\n",
            "15/15 [==============================] - 1s 54ms/step - loss: 2.0464 - mae: 2.5028\n",
            "Epoch 34/100\n",
            "15/15 [==============================] - 1s 54ms/step - loss: 2.0608 - mae: 2.5175\n",
            "Epoch 35/100\n",
            "15/15 [==============================] - 1s 53ms/step - loss: 2.0362 - mae: 2.4916\n",
            "Epoch 36/100\n",
            "15/15 [==============================] - 1s 53ms/step - loss: 2.0212 - mae: 2.4760\n",
            "Epoch 37/100\n",
            "15/15 [==============================] - 1s 55ms/step - loss: 2.0229 - mae: 2.4783\n",
            "Epoch 38/100\n",
            "15/15 [==============================] - 1s 53ms/step - loss: 2.0163 - mae: 2.4712\n",
            "Epoch 39/100\n",
            "15/15 [==============================] - 1s 53ms/step - loss: 2.0294 - mae: 2.4845\n",
            "Epoch 40/100\n",
            "15/15 [==============================] - 1s 52ms/step - loss: 2.0134 - mae: 2.4684\n",
            "Epoch 41/100\n",
            "15/15 [==============================] - 1s 53ms/step - loss: 2.0096 - mae: 2.4646\n",
            "Epoch 42/100\n",
            "15/15 [==============================] - 1s 53ms/step - loss: 2.0104 - mae: 2.4656\n",
            "Epoch 43/100\n",
            "15/15 [==============================] - 1s 53ms/step - loss: 2.0091 - mae: 2.4644\n",
            "Epoch 44/100\n",
            "15/15 [==============================] - 1s 55ms/step - loss: 2.0058 - mae: 2.4611\n",
            "Epoch 45/100\n",
            "15/15 [==============================] - 1s 54ms/step - loss: 2.0045 - mae: 2.4598\n",
            "Epoch 46/100\n",
            "15/15 [==============================] - 1s 55ms/step - loss: 2.0035 - mae: 2.4590\n",
            "Epoch 47/100\n",
            "15/15 [==============================] - 1s 56ms/step - loss: 2.0051 - mae: 2.4607\n",
            "Epoch 48/100\n",
            "15/15 [==============================] - 1s 54ms/step - loss: 2.0041 - mae: 2.4594\n",
            "Epoch 49/100\n",
            "15/15 [==============================] - 1s 54ms/step - loss: 2.0063 - mae: 2.4619\n",
            "Epoch 50/100\n",
            "15/15 [==============================] - 1s 53ms/step - loss: 2.0047 - mae: 2.4607\n",
            "Epoch 51/100\n",
            "15/15 [==============================] - 1s 54ms/step - loss: 2.0090 - mae: 2.4652\n",
            "Epoch 52/100\n",
            "15/15 [==============================] - 1s 53ms/step - loss: 2.0084 - mae: 2.4646\n",
            "Epoch 53/100\n",
            "15/15 [==============================] - 1s 54ms/step - loss: 2.0102 - mae: 2.4663\n",
            "Epoch 54/100\n",
            "15/15 [==============================] - 1s 54ms/step - loss: 2.0016 - mae: 2.4575\n",
            "Epoch 55/100\n",
            "15/15 [==============================] - 1s 53ms/step - loss: 2.0020 - mae: 2.4581\n",
            "Epoch 56/100\n",
            "15/15 [==============================] - 1s 53ms/step - loss: 2.0120 - mae: 2.4679\n",
            "Epoch 57/100\n",
            "15/15 [==============================] - 1s 53ms/step - loss: 2.0037 - mae: 2.4595\n",
            "Epoch 58/100\n",
            "15/15 [==============================] - 1s 53ms/step - loss: 2.0021 - mae: 2.4580\n",
            "Epoch 59/100\n",
            "15/15 [==============================] - 1s 53ms/step - loss: 2.0137 - mae: 2.4697\n",
            "Epoch 60/100\n",
            "15/15 [==============================] - 1s 53ms/step - loss: 1.9995 - mae: 2.4553\n",
            "Epoch 61/100\n",
            "15/15 [==============================] - 1s 55ms/step - loss: 1.9937 - mae: 2.4492\n",
            "Epoch 62/100\n",
            "15/15 [==============================] - 1s 53ms/step - loss: 1.9956 - mae: 2.4515\n",
            "Epoch 63/100\n",
            "15/15 [==============================] - 1s 54ms/step - loss: 2.0051 - mae: 2.4616\n",
            "Epoch 64/100\n",
            "15/15 [==============================] - 1s 53ms/step - loss: 1.9946 - mae: 2.4503\n",
            "Epoch 65/100\n",
            "15/15 [==============================] - 1s 55ms/step - loss: 2.0060 - mae: 2.4618\n",
            "Epoch 66/100\n",
            "15/15 [==============================] - 1s 53ms/step - loss: 1.9922 - mae: 2.4477\n",
            "Epoch 67/100\n",
            "15/15 [==============================] - 1s 54ms/step - loss: 1.9908 - mae: 2.4462\n",
            "Epoch 68/100\n",
            "15/15 [==============================] - 1s 54ms/step - loss: 1.9916 - mae: 2.4472\n",
            "Epoch 69/100\n",
            "15/15 [==============================] - 1s 55ms/step - loss: 1.9974 - mae: 2.4535\n",
            "Epoch 70/100\n",
            "15/15 [==============================] - 1s 53ms/step - loss: 1.9949 - mae: 2.4505\n",
            "Epoch 71/100\n",
            "15/15 [==============================] - 1s 54ms/step - loss: 2.0174 - mae: 2.4734\n",
            "Epoch 72/100\n",
            "15/15 [==============================] - 1s 53ms/step - loss: 1.9997 - mae: 2.4556\n",
            "Epoch 73/100\n",
            "15/15 [==============================] - 1s 55ms/step - loss: 2.0203 - mae: 2.4762\n",
            "Epoch 74/100\n",
            "15/15 [==============================] - 1s 54ms/step - loss: 1.9920 - mae: 2.4472\n",
            "Epoch 75/100\n",
            "15/15 [==============================] - 1s 54ms/step - loss: 1.9916 - mae: 2.4474\n",
            "Epoch 76/100\n",
            "15/15 [==============================] - 1s 54ms/step - loss: 1.9916 - mae: 2.4477\n",
            "Epoch 77/100\n",
            "15/15 [==============================] - 1s 53ms/step - loss: 1.9910 - mae: 2.4468\n",
            "Epoch 78/100\n",
            "15/15 [==============================] - 1s 53ms/step - loss: 1.9936 - mae: 2.4493\n",
            "Epoch 79/100\n",
            "15/15 [==============================] - 1s 53ms/step - loss: 1.9904 - mae: 2.4460\n",
            "Epoch 80/100\n",
            "15/15 [==============================] - 1s 54ms/step - loss: 1.9902 - mae: 2.4460\n",
            "Epoch 81/100\n",
            "15/15 [==============================] - 1s 53ms/step - loss: 1.9887 - mae: 2.4442\n",
            "Epoch 82/100\n",
            "15/15 [==============================] - 1s 54ms/step - loss: 1.9872 - mae: 2.4426\n",
            "Epoch 83/100\n",
            "15/15 [==============================] - 1s 53ms/step - loss: 2.0033 - mae: 2.4597\n",
            "Epoch 84/100\n",
            "15/15 [==============================] - 1s 54ms/step - loss: 1.9940 - mae: 2.4500\n",
            "Epoch 85/100\n",
            "15/15 [==============================] - 1s 53ms/step - loss: 1.9869 - mae: 2.4427\n",
            "Epoch 86/100\n",
            "15/15 [==============================] - 1s 53ms/step - loss: 2.0045 - mae: 2.4606\n",
            "Epoch 87/100\n",
            "15/15 [==============================] - 1s 53ms/step - loss: 2.0362 - mae: 2.4924\n",
            "Epoch 88/100\n",
            "15/15 [==============================] - 1s 53ms/step - loss: 1.9995 - mae: 2.4549\n",
            "Epoch 89/100\n",
            "15/15 [==============================] - 1s 53ms/step - loss: 1.9903 - mae: 2.4460\n",
            "Epoch 90/100\n",
            "15/15 [==============================] - 1s 53ms/step - loss: 1.9922 - mae: 2.4480\n",
            "Epoch 91/100\n",
            "15/15 [==============================] - 1s 53ms/step - loss: 1.9979 - mae: 2.4539\n",
            "Epoch 92/100\n",
            "15/15 [==============================] - 1s 52ms/step - loss: 1.9899 - mae: 2.4455\n",
            "Epoch 93/100\n",
            "15/15 [==============================] - 1s 53ms/step - loss: 1.9835 - mae: 2.4390\n",
            "Epoch 94/100\n",
            "15/15 [==============================] - 1s 53ms/step - loss: 1.9832 - mae: 2.4388\n",
            "Epoch 95/100\n",
            "15/15 [==============================] - 1s 54ms/step - loss: 1.9841 - mae: 2.4395\n",
            "Epoch 96/100\n",
            "15/15 [==============================] - 1s 54ms/step - loss: 2.0013 - mae: 2.4579\n",
            "Epoch 97/100\n",
            "15/15 [==============================] - 1s 53ms/step - loss: 1.9913 - mae: 2.4472\n",
            "Epoch 98/100\n",
            "15/15 [==============================] - 1s 55ms/step - loss: 1.9859 - mae: 2.4416\n",
            "Epoch 99/100\n",
            "15/15 [==============================] - 1s 54ms/step - loss: 1.9844 - mae: 2.4396\n",
            "Epoch 100/100\n",
            "15/15 [==============================] - 1s 54ms/step - loss: 1.9826 - mae: 2.4382\n"
          ],
          "name": "stdout"
        }
      ]
    },
    {
      "cell_type": "code",
      "metadata": {
        "id": "8_RDe427muRA",
        "colab": {
          "base_uri": "https://localhost:8080/",
          "height": 299
        },
        "outputId": "9ef8e06e-5c1a-48f0-fcd4-3ea39493b266"
      },
      "source": [
        "import matplotlib.pyplot as plt\n",
        "mae = history.history['mae']\n",
        "loss = history.history['loss']\n",
        "epochs = range(len(mae))\n",
        "plt.plot(epochs, mae, 'b', label='Mean Absolut Error')\n",
        "plt.plot(epochs, loss, 'r', label='Loss')\n",
        "plt.title('MAE')\n",
        "plt.legend(loc=0)\n",
        "plt.figure()\n",
        "plt.show()"
      ],
      "execution_count": null,
      "outputs": [
        {
          "output_type": "display_data",
          "data": {
            "image/png": "[encoded data removed]",
            "text/plain": [
              "<Figure size 432x288 with 1 Axes>"
            ]
          },
          "metadata": {
            "tags": [],
            "needs_background": "light"
          }
        },
        {
          "output_type": "display_data",
          "data": {
            "text/plain": [
              "<Figure size 432x288 with 0 Axes>"
            ]
          },
          "metadata": {
            "tags": []
          }
        }
      ]
    }
  ]
}