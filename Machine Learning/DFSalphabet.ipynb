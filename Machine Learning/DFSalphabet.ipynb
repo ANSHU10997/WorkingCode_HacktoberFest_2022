{
 "cells": [
  {
   "cell_type": "code",
   "execution_count": 9,
   "metadata": {},
   "outputs": [],
   "source": [
    "graph = {\n",
    "    'A' : ['B'],\n",
    "    'B' : ['E', 'D', 'C'],\n",
    "    'C' : ['E'],\n",
    "    'D' : ['E'],\n",
    "    'E' : ['F'],\n",
    "    'F' : [],\n",
    "    'G' : ['D']\n",
    "}"
   ]
  },
  {
   "cell_type": "code",
   "execution_count": 10,
   "metadata": {},
   "outputs": [],
   "source": [
    "visited = set()"
   ]
  },
  {
   "cell_type": "code",
   "execution_count": 11,
   "metadata": {},
   "outputs": [],
   "source": [
    "def dfs(visited, graph, node):\n",
    "    if node not in visited:\n",
    "        print(node)\n",
    "        visited.add(node)\n",
    "        for neighbour in graph[node]:\n",
    "            dfs(visited, graph, neighbour)"
   ]
  },
  {
   "cell_type": "code",
   "execution_count": 12,
   "metadata": {},
   "outputs": [
    {
     "name": "stdout",
     "output_type": "stream",
     "text": [
      "Hasil penulusuran graf menggunakan DFS:\n",
      "A\n",
      "B\n",
      "E\n",
      "F\n",
      "D\n",
      "C\n"
     ]
    }
   ],
   "source": [
    "print(\"Hasil penulusuran graf menggunakan DFS:\")\n",
    "dfs(visited, graph, 'A')"
   ]
  },
  {
   "cell_type": "code",
   "execution_count": null,
   "metadata": {},
   "outputs": [],
   "source": []
  }
 ],
 "metadata": {
  "kernelspec": {
   "display_name": "Python 3",
   "language": "python",
   "name": "python3"
  },
  "language_info": {
   "codemirror_mode": {
    "name": "ipython",
    "version": 3
   },
   "file_extension": ".py",
   "mimetype": "text/x-python",
   "name": "python",
   "nbconvert_exporter": "python",
   "pygments_lexer": "ipython3",
   "version": "3.8.3"
  }
 },
 "nbformat": 4,
 "nbformat_minor": 4
}
